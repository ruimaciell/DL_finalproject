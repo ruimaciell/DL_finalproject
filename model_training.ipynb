{
 "cells": [
  {
   "cell_type": "code",
   "execution_count": 1,
   "metadata": {},
   "outputs": [],
   "source": [
    "# Importing necessary libraries from PyTorch\n",
    "import torch\n",
    "import torch.nn as nn\n",
    "from torch.utils.data import DataLoader, Dataset\n",
    "from torchvision import transforms, models, datasets\n",
    "from sklearn.metrics import precision_recall_fscore_support, accuracy_score\n",
    "import torch.nn.functional as F\n",
    "import numpy as np\n",
    "\n",
    "# Importing other necessary packages\n",
    "import numpy as np\n",
    "from PIL import Image\n",
    "\n",
    "# Optional: for visualization and additional utilities\n",
    "import matplotlib.pyplot as plt\n"
   ]
  },
  {
   "cell_type": "markdown",
   "metadata": {},
   "source": [
    "# Load Pre-trained Model"
   ]
  },
  {
   "cell_type": "code",
   "execution_count": 2,
   "metadata": {},
   "outputs": [
    {
     "name": "stderr",
     "output_type": "stream",
     "text": [
      "/opt/anaconda3/lib/python3.11/site-packages/torchvision/models/_utils.py:208: UserWarning: The parameter 'pretrained' is deprecated since 0.13 and may be removed in the future, please use 'weights' instead.\n",
      "  warnings.warn(\n",
      "/opt/anaconda3/lib/python3.11/site-packages/torchvision/models/_utils.py:223: UserWarning: Arguments other than a weight enum or `None` for 'weights' are deprecated since 0.13 and may be removed in the future. The current behavior is equivalent to passing `weights=MobileNet_V3_Large_Weights.IMAGENET1K_V1`. You can also use `weights=MobileNet_V3_Large_Weights.DEFAULT` to get the most up-to-date weights.\n",
      "  warnings.warn(msg)\n"
     ]
    }
   ],
   "source": [
    "from torchvision import models\n",
    "import torch.nn as nn\n",
    "\n",
    "# Load the pretrained MobileNetV3 model\n",
    "model = models.mobilenet_v3_large(pretrained=True)\n",
    "\n",
    "# Freeze all layers in the network\n",
    "for param in model.parameters():\n",
    "    param.requires_grad = False\n"
   ]
  },
  {
   "cell_type": "code",
   "execution_count": 3,
   "metadata": {},
   "outputs": [
    {
     "name": "stdout",
     "output_type": "stream",
     "text": [
      "MobileNetV3(\n",
      "  (features): Sequential(\n",
      "    (0): Conv2dNormActivation(\n",
      "      (0): Conv2d(3, 16, kernel_size=(3, 3), stride=(2, 2), padding=(1, 1), bias=False)\n",
      "      (1): BatchNorm2d(16, eps=0.001, momentum=0.01, affine=True, track_running_stats=True)\n",
      "      (2): Hardswish()\n",
      "    )\n",
      "    (1): InvertedResidual(\n",
      "      (block): Sequential(\n",
      "        (0): Conv2dNormActivation(\n",
      "          (0): Conv2d(16, 16, kernel_size=(3, 3), stride=(1, 1), padding=(1, 1), groups=16, bias=False)\n",
      "          (1): BatchNorm2d(16, eps=0.001, momentum=0.01, affine=True, track_running_stats=True)\n",
      "          (2): ReLU(inplace=True)\n",
      "        )\n",
      "        (1): Conv2dNormActivation(\n",
      "          (0): Conv2d(16, 16, kernel_size=(1, 1), stride=(1, 1), bias=False)\n",
      "          (1): BatchNorm2d(16, eps=0.001, momentum=0.01, affine=True, track_running_stats=True)\n",
      "        )\n",
      "      )\n",
      "    )\n",
      "    (2): InvertedResidual(\n",
      "      (block): Sequential(\n",
      "        (0): Conv2dNormActivation(\n",
      "          (0): Conv2d(16, 64, kernel_size=(1, 1), stride=(1, 1), bias=False)\n",
      "          (1): BatchNorm2d(64, eps=0.001, momentum=0.01, affine=True, track_running_stats=True)\n",
      "          (2): ReLU(inplace=True)\n",
      "        )\n",
      "        (1): Conv2dNormActivation(\n",
      "          (0): Conv2d(64, 64, kernel_size=(3, 3), stride=(2, 2), padding=(1, 1), groups=64, bias=False)\n",
      "          (1): BatchNorm2d(64, eps=0.001, momentum=0.01, affine=True, track_running_stats=True)\n",
      "          (2): ReLU(inplace=True)\n",
      "        )\n",
      "        (2): Conv2dNormActivation(\n",
      "          (0): Conv2d(64, 24, kernel_size=(1, 1), stride=(1, 1), bias=False)\n",
      "          (1): BatchNorm2d(24, eps=0.001, momentum=0.01, affine=True, track_running_stats=True)\n",
      "        )\n",
      "      )\n",
      "    )\n",
      "    (3): InvertedResidual(\n",
      "      (block): Sequential(\n",
      "        (0): Conv2dNormActivation(\n",
      "          (0): Conv2d(24, 72, kernel_size=(1, 1), stride=(1, 1), bias=False)\n",
      "          (1): BatchNorm2d(72, eps=0.001, momentum=0.01, affine=True, track_running_stats=True)\n",
      "          (2): ReLU(inplace=True)\n",
      "        )\n",
      "        (1): Conv2dNormActivation(\n",
      "          (0): Conv2d(72, 72, kernel_size=(3, 3), stride=(1, 1), padding=(1, 1), groups=72, bias=False)\n",
      "          (1): BatchNorm2d(72, eps=0.001, momentum=0.01, affine=True, track_running_stats=True)\n",
      "          (2): ReLU(inplace=True)\n",
      "        )\n",
      "        (2): Conv2dNormActivation(\n",
      "          (0): Conv2d(72, 24, kernel_size=(1, 1), stride=(1, 1), bias=False)\n",
      "          (1): BatchNorm2d(24, eps=0.001, momentum=0.01, affine=True, track_running_stats=True)\n",
      "        )\n",
      "      )\n",
      "    )\n",
      "    (4): InvertedResidual(\n",
      "      (block): Sequential(\n",
      "        (0): Conv2dNormActivation(\n",
      "          (0): Conv2d(24, 72, kernel_size=(1, 1), stride=(1, 1), bias=False)\n",
      "          (1): BatchNorm2d(72, eps=0.001, momentum=0.01, affine=True, track_running_stats=True)\n",
      "          (2): ReLU(inplace=True)\n",
      "        )\n",
      "        (1): Conv2dNormActivation(\n",
      "          (0): Conv2d(72, 72, kernel_size=(5, 5), stride=(2, 2), padding=(2, 2), groups=72, bias=False)\n",
      "          (1): BatchNorm2d(72, eps=0.001, momentum=0.01, affine=True, track_running_stats=True)\n",
      "          (2): ReLU(inplace=True)\n",
      "        )\n",
      "        (2): SqueezeExcitation(\n",
      "          (avgpool): AdaptiveAvgPool2d(output_size=1)\n",
      "          (fc1): Conv2d(72, 24, kernel_size=(1, 1), stride=(1, 1))\n",
      "          (fc2): Conv2d(24, 72, kernel_size=(1, 1), stride=(1, 1))\n",
      "          (activation): ReLU()\n",
      "          (scale_activation): Hardsigmoid()\n",
      "        )\n",
      "        (3): Conv2dNormActivation(\n",
      "          (0): Conv2d(72, 40, kernel_size=(1, 1), stride=(1, 1), bias=False)\n",
      "          (1): BatchNorm2d(40, eps=0.001, momentum=0.01, affine=True, track_running_stats=True)\n",
      "        )\n",
      "      )\n",
      "    )\n",
      "    (5): InvertedResidual(\n",
      "      (block): Sequential(\n",
      "        (0): Conv2dNormActivation(\n",
      "          (0): Conv2d(40, 120, kernel_size=(1, 1), stride=(1, 1), bias=False)\n",
      "          (1): BatchNorm2d(120, eps=0.001, momentum=0.01, affine=True, track_running_stats=True)\n",
      "          (2): ReLU(inplace=True)\n",
      "        )\n",
      "        (1): Conv2dNormActivation(\n",
      "          (0): Conv2d(120, 120, kernel_size=(5, 5), stride=(1, 1), padding=(2, 2), groups=120, bias=False)\n",
      "          (1): BatchNorm2d(120, eps=0.001, momentum=0.01, affine=True, track_running_stats=True)\n",
      "          (2): ReLU(inplace=True)\n",
      "        )\n",
      "        (2): SqueezeExcitation(\n",
      "          (avgpool): AdaptiveAvgPool2d(output_size=1)\n",
      "          (fc1): Conv2d(120, 32, kernel_size=(1, 1), stride=(1, 1))\n",
      "          (fc2): Conv2d(32, 120, kernel_size=(1, 1), stride=(1, 1))\n",
      "          (activation): ReLU()\n",
      "          (scale_activation): Hardsigmoid()\n",
      "        )\n",
      "        (3): Conv2dNormActivation(\n",
      "          (0): Conv2d(120, 40, kernel_size=(1, 1), stride=(1, 1), bias=False)\n",
      "          (1): BatchNorm2d(40, eps=0.001, momentum=0.01, affine=True, track_running_stats=True)\n",
      "        )\n",
      "      )\n",
      "    )\n",
      "    (6): InvertedResidual(\n",
      "      (block): Sequential(\n",
      "        (0): Conv2dNormActivation(\n",
      "          (0): Conv2d(40, 120, kernel_size=(1, 1), stride=(1, 1), bias=False)\n",
      "          (1): BatchNorm2d(120, eps=0.001, momentum=0.01, affine=True, track_running_stats=True)\n",
      "          (2): ReLU(inplace=True)\n",
      "        )\n",
      "        (1): Conv2dNormActivation(\n",
      "          (0): Conv2d(120, 120, kernel_size=(5, 5), stride=(1, 1), padding=(2, 2), groups=120, bias=False)\n",
      "          (1): BatchNorm2d(120, eps=0.001, momentum=0.01, affine=True, track_running_stats=True)\n",
      "          (2): ReLU(inplace=True)\n",
      "        )\n",
      "        (2): SqueezeExcitation(\n",
      "          (avgpool): AdaptiveAvgPool2d(output_size=1)\n",
      "          (fc1): Conv2d(120, 32, kernel_size=(1, 1), stride=(1, 1))\n",
      "          (fc2): Conv2d(32, 120, kernel_size=(1, 1), stride=(1, 1))\n",
      "          (activation): ReLU()\n",
      "          (scale_activation): Hardsigmoid()\n",
      "        )\n",
      "        (3): Conv2dNormActivation(\n",
      "          (0): Conv2d(120, 40, kernel_size=(1, 1), stride=(1, 1), bias=False)\n",
      "          (1): BatchNorm2d(40, eps=0.001, momentum=0.01, affine=True, track_running_stats=True)\n",
      "        )\n",
      "      )\n",
      "    )\n",
      "    (7): InvertedResidual(\n",
      "      (block): Sequential(\n",
      "        (0): Conv2dNormActivation(\n",
      "          (0): Conv2d(40, 240, kernel_size=(1, 1), stride=(1, 1), bias=False)\n",
      "          (1): BatchNorm2d(240, eps=0.001, momentum=0.01, affine=True, track_running_stats=True)\n",
      "          (2): Hardswish()\n",
      "        )\n",
      "        (1): Conv2dNormActivation(\n",
      "          (0): Conv2d(240, 240, kernel_size=(3, 3), stride=(2, 2), padding=(1, 1), groups=240, bias=False)\n",
      "          (1): BatchNorm2d(240, eps=0.001, momentum=0.01, affine=True, track_running_stats=True)\n",
      "          (2): Hardswish()\n",
      "        )\n",
      "        (2): Conv2dNormActivation(\n",
      "          (0): Conv2d(240, 80, kernel_size=(1, 1), stride=(1, 1), bias=False)\n",
      "          (1): BatchNorm2d(80, eps=0.001, momentum=0.01, affine=True, track_running_stats=True)\n",
      "        )\n",
      "      )\n",
      "    )\n",
      "    (8): InvertedResidual(\n",
      "      (block): Sequential(\n",
      "        (0): Conv2dNormActivation(\n",
      "          (0): Conv2d(80, 200, kernel_size=(1, 1), stride=(1, 1), bias=False)\n",
      "          (1): BatchNorm2d(200, eps=0.001, momentum=0.01, affine=True, track_running_stats=True)\n",
      "          (2): Hardswish()\n",
      "        )\n",
      "        (1): Conv2dNormActivation(\n",
      "          (0): Conv2d(200, 200, kernel_size=(3, 3), stride=(1, 1), padding=(1, 1), groups=200, bias=False)\n",
      "          (1): BatchNorm2d(200, eps=0.001, momentum=0.01, affine=True, track_running_stats=True)\n",
      "          (2): Hardswish()\n",
      "        )\n",
      "        (2): Conv2dNormActivation(\n",
      "          (0): Conv2d(200, 80, kernel_size=(1, 1), stride=(1, 1), bias=False)\n",
      "          (1): BatchNorm2d(80, eps=0.001, momentum=0.01, affine=True, track_running_stats=True)\n",
      "        )\n",
      "      )\n",
      "    )\n",
      "    (9): InvertedResidual(\n",
      "      (block): Sequential(\n",
      "        (0): Conv2dNormActivation(\n",
      "          (0): Conv2d(80, 184, kernel_size=(1, 1), stride=(1, 1), bias=False)\n",
      "          (1): BatchNorm2d(184, eps=0.001, momentum=0.01, affine=True, track_running_stats=True)\n",
      "          (2): Hardswish()\n",
      "        )\n",
      "        (1): Conv2dNormActivation(\n",
      "          (0): Conv2d(184, 184, kernel_size=(3, 3), stride=(1, 1), padding=(1, 1), groups=184, bias=False)\n",
      "          (1): BatchNorm2d(184, eps=0.001, momentum=0.01, affine=True, track_running_stats=True)\n",
      "          (2): Hardswish()\n",
      "        )\n",
      "        (2): Conv2dNormActivation(\n",
      "          (0): Conv2d(184, 80, kernel_size=(1, 1), stride=(1, 1), bias=False)\n",
      "          (1): BatchNorm2d(80, eps=0.001, momentum=0.01, affine=True, track_running_stats=True)\n",
      "        )\n",
      "      )\n",
      "    )\n",
      "    (10): InvertedResidual(\n",
      "      (block): Sequential(\n",
      "        (0): Conv2dNormActivation(\n",
      "          (0): Conv2d(80, 184, kernel_size=(1, 1), stride=(1, 1), bias=False)\n",
      "          (1): BatchNorm2d(184, eps=0.001, momentum=0.01, affine=True, track_running_stats=True)\n",
      "          (2): Hardswish()\n",
      "        )\n",
      "        (1): Conv2dNormActivation(\n",
      "          (0): Conv2d(184, 184, kernel_size=(3, 3), stride=(1, 1), padding=(1, 1), groups=184, bias=False)\n",
      "          (1): BatchNorm2d(184, eps=0.001, momentum=0.01, affine=True, track_running_stats=True)\n",
      "          (2): Hardswish()\n",
      "        )\n",
      "        (2): Conv2dNormActivation(\n",
      "          (0): Conv2d(184, 80, kernel_size=(1, 1), stride=(1, 1), bias=False)\n",
      "          (1): BatchNorm2d(80, eps=0.001, momentum=0.01, affine=True, track_running_stats=True)\n",
      "        )\n",
      "      )\n",
      "    )\n",
      "    (11): InvertedResidual(\n",
      "      (block): Sequential(\n",
      "        (0): Conv2dNormActivation(\n",
      "          (0): Conv2d(80, 480, kernel_size=(1, 1), stride=(1, 1), bias=False)\n",
      "          (1): BatchNorm2d(480, eps=0.001, momentum=0.01, affine=True, track_running_stats=True)\n",
      "          (2): Hardswish()\n",
      "        )\n",
      "        (1): Conv2dNormActivation(\n",
      "          (0): Conv2d(480, 480, kernel_size=(3, 3), stride=(1, 1), padding=(1, 1), groups=480, bias=False)\n",
      "          (1): BatchNorm2d(480, eps=0.001, momentum=0.01, affine=True, track_running_stats=True)\n",
      "          (2): Hardswish()\n",
      "        )\n",
      "        (2): SqueezeExcitation(\n",
      "          (avgpool): AdaptiveAvgPool2d(output_size=1)\n",
      "          (fc1): Conv2d(480, 120, kernel_size=(1, 1), stride=(1, 1))\n",
      "          (fc2): Conv2d(120, 480, kernel_size=(1, 1), stride=(1, 1))\n",
      "          (activation): ReLU()\n",
      "          (scale_activation): Hardsigmoid()\n",
      "        )\n",
      "        (3): Conv2dNormActivation(\n",
      "          (0): Conv2d(480, 112, kernel_size=(1, 1), stride=(1, 1), bias=False)\n",
      "          (1): BatchNorm2d(112, eps=0.001, momentum=0.01, affine=True, track_running_stats=True)\n",
      "        )\n",
      "      )\n",
      "    )\n",
      "    (12): InvertedResidual(\n",
      "      (block): Sequential(\n",
      "        (0): Conv2dNormActivation(\n",
      "          (0): Conv2d(112, 672, kernel_size=(1, 1), stride=(1, 1), bias=False)\n",
      "          (1): BatchNorm2d(672, eps=0.001, momentum=0.01, affine=True, track_running_stats=True)\n",
      "          (2): Hardswish()\n",
      "        )\n",
      "        (1): Conv2dNormActivation(\n",
      "          (0): Conv2d(672, 672, kernel_size=(3, 3), stride=(1, 1), padding=(1, 1), groups=672, bias=False)\n",
      "          (1): BatchNorm2d(672, eps=0.001, momentum=0.01, affine=True, track_running_stats=True)\n",
      "          (2): Hardswish()\n",
      "        )\n",
      "        (2): SqueezeExcitation(\n",
      "          (avgpool): AdaptiveAvgPool2d(output_size=1)\n",
      "          (fc1): Conv2d(672, 168, kernel_size=(1, 1), stride=(1, 1))\n",
      "          (fc2): Conv2d(168, 672, kernel_size=(1, 1), stride=(1, 1))\n",
      "          (activation): ReLU()\n",
      "          (scale_activation): Hardsigmoid()\n",
      "        )\n",
      "        (3): Conv2dNormActivation(\n",
      "          (0): Conv2d(672, 112, kernel_size=(1, 1), stride=(1, 1), bias=False)\n",
      "          (1): BatchNorm2d(112, eps=0.001, momentum=0.01, affine=True, track_running_stats=True)\n",
      "        )\n",
      "      )\n",
      "    )\n",
      "    (13): InvertedResidual(\n",
      "      (block): Sequential(\n",
      "        (0): Conv2dNormActivation(\n",
      "          (0): Conv2d(112, 672, kernel_size=(1, 1), stride=(1, 1), bias=False)\n",
      "          (1): BatchNorm2d(672, eps=0.001, momentum=0.01, affine=True, track_running_stats=True)\n",
      "          (2): Hardswish()\n",
      "        )\n",
      "        (1): Conv2dNormActivation(\n",
      "          (0): Conv2d(672, 672, kernel_size=(5, 5), stride=(2, 2), padding=(2, 2), groups=672, bias=False)\n",
      "          (1): BatchNorm2d(672, eps=0.001, momentum=0.01, affine=True, track_running_stats=True)\n",
      "          (2): Hardswish()\n",
      "        )\n",
      "        (2): SqueezeExcitation(\n",
      "          (avgpool): AdaptiveAvgPool2d(output_size=1)\n",
      "          (fc1): Conv2d(672, 168, kernel_size=(1, 1), stride=(1, 1))\n",
      "          (fc2): Conv2d(168, 672, kernel_size=(1, 1), stride=(1, 1))\n",
      "          (activation): ReLU()\n",
      "          (scale_activation): Hardsigmoid()\n",
      "        )\n",
      "        (3): Conv2dNormActivation(\n",
      "          (0): Conv2d(672, 160, kernel_size=(1, 1), stride=(1, 1), bias=False)\n",
      "          (1): BatchNorm2d(160, eps=0.001, momentum=0.01, affine=True, track_running_stats=True)\n",
      "        )\n",
      "      )\n",
      "    )\n",
      "    (14): InvertedResidual(\n",
      "      (block): Sequential(\n",
      "        (0): Conv2dNormActivation(\n",
      "          (0): Conv2d(160, 960, kernel_size=(1, 1), stride=(1, 1), bias=False)\n",
      "          (1): BatchNorm2d(960, eps=0.001, momentum=0.01, affine=True, track_running_stats=True)\n",
      "          (2): Hardswish()\n",
      "        )\n",
      "        (1): Conv2dNormActivation(\n",
      "          (0): Conv2d(960, 960, kernel_size=(5, 5), stride=(1, 1), padding=(2, 2), groups=960, bias=False)\n",
      "          (1): BatchNorm2d(960, eps=0.001, momentum=0.01, affine=True, track_running_stats=True)\n",
      "          (2): Hardswish()\n",
      "        )\n",
      "        (2): SqueezeExcitation(\n",
      "          (avgpool): AdaptiveAvgPool2d(output_size=1)\n",
      "          (fc1): Conv2d(960, 240, kernel_size=(1, 1), stride=(1, 1))\n",
      "          (fc2): Conv2d(240, 960, kernel_size=(1, 1), stride=(1, 1))\n",
      "          (activation): ReLU()\n",
      "          (scale_activation): Hardsigmoid()\n",
      "        )\n",
      "        (3): Conv2dNormActivation(\n",
      "          (0): Conv2d(960, 160, kernel_size=(1, 1), stride=(1, 1), bias=False)\n",
      "          (1): BatchNorm2d(160, eps=0.001, momentum=0.01, affine=True, track_running_stats=True)\n",
      "        )\n",
      "      )\n",
      "    )\n",
      "    (15): InvertedResidual(\n",
      "      (block): Sequential(\n",
      "        (0): Conv2dNormActivation(\n",
      "          (0): Conv2d(160, 960, kernel_size=(1, 1), stride=(1, 1), bias=False)\n",
      "          (1): BatchNorm2d(960, eps=0.001, momentum=0.01, affine=True, track_running_stats=True)\n",
      "          (2): Hardswish()\n",
      "        )\n",
      "        (1): Conv2dNormActivation(\n",
      "          (0): Conv2d(960, 960, kernel_size=(5, 5), stride=(1, 1), padding=(2, 2), groups=960, bias=False)\n",
      "          (1): BatchNorm2d(960, eps=0.001, momentum=0.01, affine=True, track_running_stats=True)\n",
      "          (2): Hardswish()\n",
      "        )\n",
      "        (2): SqueezeExcitation(\n",
      "          (avgpool): AdaptiveAvgPool2d(output_size=1)\n",
      "          (fc1): Conv2d(960, 240, kernel_size=(1, 1), stride=(1, 1))\n",
      "          (fc2): Conv2d(240, 960, kernel_size=(1, 1), stride=(1, 1))\n",
      "          (activation): ReLU()\n",
      "          (scale_activation): Hardsigmoid()\n",
      "        )\n",
      "        (3): Conv2dNormActivation(\n",
      "          (0): Conv2d(960, 160, kernel_size=(1, 1), stride=(1, 1), bias=False)\n",
      "          (1): BatchNorm2d(160, eps=0.001, momentum=0.01, affine=True, track_running_stats=True)\n",
      "        )\n",
      "      )\n",
      "    )\n",
      "    (16): Conv2dNormActivation(\n",
      "      (0): Conv2d(160, 960, kernel_size=(1, 1), stride=(1, 1), bias=False)\n",
      "      (1): BatchNorm2d(960, eps=0.001, momentum=0.01, affine=True, track_running_stats=True)\n",
      "      (2): Hardswish()\n",
      "    )\n",
      "  )\n",
      "  (avgpool): AdaptiveAvgPool2d(output_size=1)\n",
      "  (classifier): Sequential(\n",
      "    (0): Linear(in_features=960, out_features=1280, bias=True)\n",
      "    (1): Hardswish()\n",
      "    (2): Dropout(p=0.2, inplace=True)\n",
      "    (3): Linear(in_features=1280, out_features=1000, bias=True)\n",
      "  )\n",
      ")\n"
     ]
    }
   ],
   "source": [
    "# Print the model architecture\n",
    "print(model)"
   ]
  },
  {
   "cell_type": "markdown",
   "metadata": {},
   "source": [
    "# Step 1: Load the data"
   ]
  },
  {
   "cell_type": "code",
   "execution_count": 4,
   "metadata": {},
   "outputs": [],
   "source": [
    "from dataset_prep import *"
   ]
  },
  {
   "cell_type": "code",
   "execution_count": 5,
   "metadata": {},
   "outputs": [],
   "source": [
    "# PARAMS\n",
    "BATCH_SIZE = 200\n",
    "NUM_WORKERS = 8\n",
    "PIN_MEMORY = False\n",
    "SHUFFLE = False # preprocessed data is already shuffled\n",
    "LEARNING_RATE = 1e-3\n",
    "NUM_EPOCHS = 100\n",
    "PATIENCE = 5\n",
    "# NUM_BATCHES = 10 this one when want to break early, train just one batch etc.\n",
    "LOAD_MODEL = False"
   ]
  },
  {
   "cell_type": "code",
   "execution_count": 6,
   "metadata": {},
   "outputs": [],
   "source": [
    "# Base path\n",
    "base_path = '/Users/ruimaciel/Desktop/Barcelona/DL_Image/Final_project/data_prepped'\n",
    "\n",
    "# Define the datasets with correct paths\n",
    "train_ds = Prepped_Painting_Dataset(data_dir=os.path.join(base_path, 'train_prep'))\n",
    "valid_ds = Prepped_Painting_Dataset(data_dir=os.path.join(base_path, 'val_prep'))\n",
    "test_ds = Prepped_Painting_Dataset(data_dir=os.path.join(base_path, 'test_prep'))\n",
    "\n",
    "\n",
    "train_loader = DataLoader(train_ds,\n",
    "                          batch_size=BATCH_SIZE,\n",
    "                          num_workers=NUM_WORKERS,\n",
    "                          shuffle=SHUFFLE,\n",
    "                          persistent_workers=True)\n",
    "\n",
    "\n",
    "valid_loader = DataLoader(valid_ds,\n",
    "                          batch_size=BATCH_SIZE,\n",
    "                          num_workers=NUM_WORKERS,\n",
    "                          shuffle=SHUFFLE,\n",
    "                          persistent_workers=True)\n",
    "\n",
    "\n",
    "test_loader = DataLoader(test_ds,\n",
    "                          batch_size=BATCH_SIZE,\n",
    "                          num_workers=NUM_WORKERS,\n",
    "                          shuffle=SHUFFLE,\n",
    "                          persistent_workers=True)"
   ]
  },
  {
   "cell_type": "markdown",
   "metadata": {},
   "source": [
    "# Step 2: Unfreeze the Last Layer"
   ]
  },
  {
   "cell_type": "code",
   "execution_count": 7,
   "metadata": {},
   "outputs": [],
   "source": [
    "# Assuming you have 'num_classes' as the number of your target classes\n",
    "num_classes = 27  # Change this to your number of classes\n",
    "\n",
    "# Replace the classifier - note for MobileNetV3, the final classifier is named 'classifier'\n",
    "model.classifier[3] = nn.Linear(model.classifier[3].in_features, num_classes)"
   ]
  },
  {
   "cell_type": "markdown",
   "metadata": {},
   "source": [
    "# Step 3: Move the Model to a GPU (Optional)"
   ]
  },
  {
   "cell_type": "code",
   "execution_count": 8,
   "metadata": {},
   "outputs": [
    {
     "name": "stdout",
     "output_type": "stream",
     "text": [
      "cpu\n"
     ]
    }
   ],
   "source": [
    "device = torch.device(\"cuda\" if torch.cuda.is_available() else \"cpu\")\n",
    "print(device)\n",
    "model = model.to(device)"
   ]
  },
  {
   "cell_type": "markdown",
   "metadata": {},
   "source": [
    "# Step 4: Define Loss Function and Optimizer"
   ]
  },
  {
   "cell_type": "code",
   "execution_count": 9,
   "metadata": {},
   "outputs": [],
   "source": [
    "from torch.optim import Adam\n",
    "\n",
    "criterion = nn.CrossEntropyLoss()  # Suitable for classification tasks\n",
    "optimizer = Adam(model.classifier.parameters(), lr=0.001, weight_decay=0.01)  # Add L2 regularization\n"
   ]
  },
  {
   "cell_type": "markdown",
   "metadata": {},
   "source": [
    "# Step 5: Training the Model"
   ]
  },
  {
   "cell_type": "code",
   "execution_count": 10,
   "metadata": {},
   "outputs": [],
   "source": [
    "# model.train()  # Set the model to training mode\n",
    "# num_epochs = 5  # Number of training epochs\n",
    "\n",
    "# # Lists to track losses\n",
    "# train_losses = []\n",
    "# val_losses = []\n",
    "\n",
    "# for epoch in range(num_epochs):\n",
    "#     # Training phase\n",
    "#     model.train()  # Ensure the model is in training mode\n",
    "#     running_train_loss = 0.0\n",
    "#     for inputs, labels in train_loader:\n",
    "#         inputs, labels = inputs.to(device), labels.to(device)  # Move data to the appropriate device\n",
    "\n",
    "#         # Convert labels to one-hot encoding\n",
    "#         labels = torch.nn.functional.one_hot(labels.squeeze(), num_classes=26).float()\n",
    "\n",
    "#         # Forward pass\n",
    "#         outputs = model(inputs)\n",
    "#         loss = criterion(outputs, labels)\n",
    "\n",
    "#         # Backward and optimize\n",
    "#         optimizer.zero_grad()  # Clear gradients w.r.t. parameters\n",
    "#         loss.backward()  # Backward pass\n",
    "#         optimizer.step()  # Perform a single optimization step\n",
    "\n",
    "#         running_train_loss += loss.item()\n",
    "\n",
    "#     epoch_train_loss = running_train_loss / len(train_loader)\n",
    "#     train_losses.append(epoch_train_loss)\n",
    "\n",
    "#     print(f'Epoch [{epoch+1}/{num_epochs}], Training Loss: {epoch_train_loss:.4f}')\n",
    "\n",
    "#     # Validation phase\n",
    "#     model.eval()  # Set the model to evaluation mode\n",
    "#     running_val_loss = 0.0\n",
    "#     with torch.no_grad():\n",
    "#         for inputs, labels in valid_loader:\n",
    "#             inputs, labels = inputs.to(device), labels.to(device)\n",
    "\n",
    "#             # Convert labels to one-hot encoding\n",
    "#             labels = torch.nn.functional.one_hot(labels.squeeze(), num_classes=26).float()\n",
    "\n",
    "#             outputs = model(inputs)\n",
    "#             loss = criterion(outputs, labels)\n",
    "#             running_val_loss += loss.item()\n",
    "\n",
    "#     epoch_val_loss = running_val_loss / len(valid_loader)\n",
    "#     val_losses.append(epoch_val_loss)\n",
    "\n",
    "#     print(f'Epoch [{epoch+1}/{num_epochs}], Validation Loss: {epoch_val_loss:.4f}')\n",
    "\n",
    "# # Plotting training and validation loss\n",
    "# plt.figure(figsize=(10, 5))\n",
    "# plt.plot(range(1, num_epochs + 1), train_losses, label='Training Loss')\n",
    "# plt.plot(range(1, num_epochs + 1), val_losses, label='Validation Loss')\n",
    "# plt.xlabel('Epoch')\n",
    "# plt.ylabel('Loss')\n",
    "# plt.title('Training and Validation Loss')\n",
    "# plt.legend()\n",
    "# plt.show()\n"
   ]
  },
  {
   "cell_type": "code",
   "execution_count": 11,
   "metadata": {},
   "outputs": [],
   "source": [
    "from tqdm import tqdm\n",
    "import matplotlib.pyplot as plt\n",
    "import torch\n",
    "from torch.optim.lr_scheduler import ReduceLROnPlateau"
   ]
  },
  {
   "cell_type": "code",
   "execution_count": 12,
   "metadata": {},
   "outputs": [],
   "source": [
    "# # Define the learning rate scheduler\n",
    "# scheduler = ReduceLROnPlateau(optimizer, mode='min', factor=0.1, patience=2, min_lr=1e-6)\n",
    "\n",
    "# # Training and validation loops\n",
    "# num_epochs = 20  # Number of training epochs\n",
    "# patience = 2    # Number of epochs to wait for improvement\n",
    "# min_delta = 0.01  # Minimum change to qualify as an improvement\n",
    "\n",
    "# # Lists to track losses\n",
    "# train_losses = []\n",
    "# val_losses = []\n",
    "\n",
    "# # Early stopping variables\n",
    "# best_val_loss = float('inf')\n",
    "# early_stop_counter = 0\n",
    "# best_model_params = None\n",
    "\n",
    "# for epoch in range(num_epochs):\n",
    "#     # Training phase\n",
    "#     model.train()  # Ensure the model is in training mode\n",
    "#     running_train_loss = 0.0\n",
    "#     loop = tqdm(train_loader, desc=f\"Epoch [{epoch+1}/{num_epochs}] Training\")\n",
    "\n",
    "#     for inputs, labels in loop:\n",
    "#         inputs, labels = inputs.to(device), labels.to(device)  # Move data to the appropriate device\n",
    "\n",
    "#         # Ensure labels are 1D tensors of class indices\n",
    "#         if labels.ndimension() > 1:\n",
    "#             labels = labels.squeeze()\n",
    "\n",
    "#         # Forward pass\n",
    "#         outputs = model(inputs)\n",
    "#         loss = criterion(outputs, labels)\n",
    "\n",
    "#         # Backward and optimize\n",
    "#         optimizer.zero_grad()  # Clear gradients w.r.t. parameters\n",
    "#         loss.backward()  # Backward pass\n",
    "#         optimizer.step()  # Perform a single optimization step\n",
    "\n",
    "#         running_train_loss += loss.item()\n",
    "#         loop.set_postfix(loss=loss.item())\n",
    "\n",
    "#     epoch_train_loss = running_train_loss / len(train_loader)\n",
    "#     train_losses.append(epoch_train_loss)\n",
    "\n",
    "#     print(f'Epoch [{epoch+1}/{num_epochs}], Training Loss: {epoch_train_loss:.4f}')\n",
    "\n",
    "#     # Validation phase\n",
    "#     model.eval()  # Set the model to evaluation mode\n",
    "#     running_val_loss = 0.0\n",
    "#     with torch.no_grad():\n",
    "#         for inputs, labels in valid_loader:\n",
    "#             inputs, labels = inputs.to(device), labels.to(device)\n",
    "\n",
    "#             # Ensure labels are 1D tensors of class indices\n",
    "#             if labels.ndimension() > 1:\n",
    "#                 labels = labels.squeeze()\n",
    "\n",
    "#             outputs = model(inputs)\n",
    "#             loss = criterion(outputs, labels)\n",
    "#             running_val_loss += loss.item()\n",
    "\n",
    "#     epoch_val_loss = running_val_loss / len(valid_loader)\n",
    "#     val_losses.append(epoch_val_loss)\n",
    "\n",
    "#     print(f'Epoch [{epoch+1}/{num_epochs}], Validation Loss: {epoch_val_loss:.4f}')\n",
    "\n",
    "#     # Adjust the learning rate based on the validation loss\n",
    "#     scheduler.step(epoch_val_loss)\n",
    "\n",
    "#     # Early stopping check\n",
    "#     if epoch_val_loss < best_val_loss - min_delta:\n",
    "#         best_val_loss = epoch_val_loss\n",
    "#         early_stop_counter = 0\n",
    "#         best_model_params = model.state_dict().copy()  # Save the best model parameters\n",
    "#         print(\"Validation loss improved. Resetting early stopping counter and saving model parameters.\")\n",
    "#     else:\n",
    "#         early_stop_counter += 1\n",
    "#         print(f\"No improvement in validation loss. Early stopping counter: {early_stop_counter}\")\n",
    "\n",
    "#     if early_stop_counter >= patience:\n",
    "#         print(\"Early stopping triggered. Stopping training.\")\n",
    "#         break\n",
    "\n",
    "# # Load the best model parameters before plotting\n",
    "# if best_model_params is not None:\n",
    "#     model.load_state_dict(best_model_params)\n",
    "#     print(\"Loaded best model parameters from training.\")\n",
    "\n",
    "# # Plotting training and validation loss\n",
    "# plt.figure(figsize=(10, 5))\n",
    "# plt.plot(range(1, len(train_losses) + 1), train_losses, label='Training Loss')\n",
    "# plt.plot(range(1, len(val_losses) + 1), val_losses, label='Validation Loss')\n",
    "# plt.xlabel('Epoch')\n",
    "# plt.ylabel('Loss')\n",
    "# plt.title('Training and Validation Loss')\n",
    "# plt.legend()\n",
    "# plt.show()\n",
    "\n"
   ]
  },
  {
   "cell_type": "markdown",
   "metadata": {},
   "source": [
    "# Step 6: Evaluate the Model"
   ]
  },
  {
   "cell_type": "code",
   "execution_count": 13,
   "metadata": {},
   "outputs": [],
   "source": [
    "# import torch\n",
    "# import torch.nn as nn\n",
    "# import numpy as np\n",
    "# from sklearn.metrics import accuracy_score, precision_recall_fscore_support, classification_report\n",
    "\n",
    "# # Inference with Softmax and Metrics Calculation on Test Dataset\n",
    "# model.eval()  # Set the model to evaluation mode\n",
    "# softmax = nn.Softmax(dim=1)\n",
    "# all_labels = []\n",
    "# all_predictions = []\n",
    "\n",
    "# with torch.no_grad():\n",
    "#     for inputs, labels in test_loader:  # Assume you have a DataLoader 'test_loader'\n",
    "#         inputs, labels = inputs.to(device), labels.to(device)\n",
    "#         outputs = model(inputs)\n",
    "#         probabilities = softmax(outputs)  # Apply softmax to get probabilities\n",
    "#         _, predicted = torch.max(probabilities, 1)  # Get the index of the max probability\n",
    "#         all_labels.extend(labels.cpu().numpy())\n",
    "#         all_predictions.extend(predicted.cpu().numpy())\n",
    "\n",
    "# # Calculate accuracy\n",
    "# accuracy = accuracy_score(all_labels, all_predictions) * 100\n",
    "# print(f'Overall Accuracy of the model on the test images: {accuracy:.2f}%')\n",
    "\n",
    "# # Calculate precision, recall, f1-score, and support for each class\n",
    "# precision, recall, f1, support = precision_recall_fscore_support(all_labels, all_predictions, average=None)\n",
    "\n",
    "# # Print precision, recall, f1-score, and accuracy for each class\n",
    "# for i in range(num_classes):\n",
    "#     class_precision = precision[i]\n",
    "#     class_recall = recall[i]\n",
    "#     class_f1 = f1[i]\n",
    "#     class_support = support[i]\n",
    "#     class_accuracy = 100 * (np.sum((np.array(all_labels) == i) & (np.array(all_predictions) == i))) / class_support\n",
    "#     print(f'Class {i}:')\n",
    "#     print(f'  Precision: {class_precision:.4f}')\n",
    "#     print(f'  Recall: {class_recall:.4f}')\n",
    "#     print(f'  F1 Score: {class_f1:.4f}')\n",
    "#     print(f'  Accuracy: {class_accuracy:.2f}%')\n",
    "\n",
    "# # Print overall precision, recall, f1-score\n",
    "# overall_precision, overall_recall, overall_f1, _ = precision_recall_fscore_support(all_labels, all_predictions, average='macro')\n",
    "# print(f'Overall Precision: {overall_precision:.4f}')\n",
    "# print(f'Overall Recall: {overall_recall:.4f}')\n",
    "# print(f'Overall F1 Score: {overall_f1:.4f}')\n",
    "\n",
    "# # Print classification report\n",
    "# print(\"\\nClassification Report:\")\n",
    "# print(classification_report(all_labels, all_predictions, target_names=[f'Class {i}' for i in range(num_classes)]))\n",
    "\n"
   ]
  },
  {
   "cell_type": "markdown",
   "metadata": {},
   "source": [
    "## Another optimizer"
   ]
  },
  {
   "cell_type": "markdown",
   "metadata": {},
   "source": [
    "# Unfreezing another layer"
   ]
  },
  {
   "cell_type": "code",
   "execution_count": 14,
   "metadata": {},
   "outputs": [
    {
     "name": "stdout",
     "output_type": "stream",
     "text": [
      "cpu\n"
     ]
    }
   ],
   "source": [
    "\n",
    "# Freeze all layers except the last two\n",
    "for param in model.parameters():\n",
    "    param.requires_grad = False\n",
    "\n",
    "# Define the new classifier with dropout and the final linear layer\n",
    "new_classifier = nn.Sequential(\n",
    "    model.classifier[0],\n",
    "    model.classifier[1],\n",
    "    nn.Dropout(0.2),  # Add dropout before the final layer\n",
    "    nn.Linear(model.classifier[0].out_features, num_classes)  # Add the final linear layer\n",
    ")\n",
    "\n",
    "model.classifier = new_classifier\n",
    "\n",
    "# Unfreeze the last two layers\n",
    "for param in model.classifier[-2:].parameters():\n",
    "    param.requires_grad = True\n",
    "\n",
    "device = torch.device(\"cuda\" if torch.cuda.is_available() else \"cpu\")\n",
    "print(device)\n",
    "model = model.to(device)\n",
    "\n",
    "criterion = nn.CrossEntropyLoss()  # Suitable for classification tasks\n",
    "optimizer = torch.optim.SGD(filter(lambda p: p.requires_grad, model.parameters()), lr=0.03, momentum=0.9, weight_decay=0.01)"
   ]
  },
  {
   "cell_type": "code",
   "execution_count": 15,
   "metadata": {},
   "outputs": [
    {
     "name": "stderr",
     "output_type": "stream",
     "text": [
      "Epoch [1/20] Training: 100%|██████████| 111/111 [12:09<00:00,  6.57s/it, loss=2.73]"
     ]
    },
    {
     "name": "stdout",
     "output_type": "stream",
     "text": [
      "Epoch [1/20], Training Accuracy: 0.1580\n"
     ]
    },
    {
     "name": "stderr",
     "output_type": "stream",
     "text": [
      "\n"
     ]
    },
    {
     "name": "stdout",
     "output_type": "stream",
     "text": [
      "Epoch [1/20], Validation Accuracy: 0.3220\n",
      "Validation accuracy improved. Resetting early stopping counter and saving model parameters.\n"
     ]
    },
    {
     "name": "stderr",
     "output_type": "stream",
     "text": [
      "Epoch [2/20] Training: 100%|██████████| 111/111 [12:12<00:00,  6.60s/it, loss=2.62]\n"
     ]
    },
    {
     "name": "stdout",
     "output_type": "stream",
     "text": [
      "Epoch [2/20], Training Accuracy: 0.2423\n",
      "Epoch [2/20], Validation Accuracy: 0.3575\n",
      "Validation accuracy improved. Resetting early stopping counter and saving model parameters.\n"
     ]
    },
    {
     "name": "stderr",
     "output_type": "stream",
     "text": [
      "Epoch [3/20] Training: 100%|██████████| 111/111 [12:43<00:00,  6.88s/it, loss=2.55]\n"
     ]
    },
    {
     "name": "stdout",
     "output_type": "stream",
     "text": [
      "Epoch [3/20], Training Accuracy: 0.2643\n",
      "Epoch [3/20], Validation Accuracy: 0.3554\n",
      "No improvement in validation accuracy. Early stopping counter: 1\n"
     ]
    },
    {
     "name": "stderr",
     "output_type": "stream",
     "text": [
      "Epoch [4/20] Training: 100%|██████████| 111/111 [12:51<00:00,  6.95s/it, loss=2.5] \n"
     ]
    },
    {
     "name": "stdout",
     "output_type": "stream",
     "text": [
      "Epoch [4/20], Training Accuracy: 0.2774\n",
      "Epoch [4/20], Validation Accuracy: 0.3590\n",
      "No improvement in validation accuracy. Early stopping counter: 2\n"
     ]
    },
    {
     "name": "stderr",
     "output_type": "stream",
     "text": [
      "Epoch [5/20] Training: 100%|██████████| 111/111 [12:51<00:00,  6.95s/it, loss=2.47]\n"
     ]
    },
    {
     "name": "stdout",
     "output_type": "stream",
     "text": [
      "Epoch [5/20], Training Accuracy: 0.2873\n",
      "Epoch [5/20], Validation Accuracy: 0.3634\n",
      "No improvement in validation accuracy. Early stopping counter: 3\n"
     ]
    },
    {
     "name": "stderr",
     "output_type": "stream",
     "text": [
      "Epoch [6/20] Training: 100%|██████████| 111/111 [12:54<00:00,  6.98s/it, loss=2.43]\n"
     ]
    },
    {
     "name": "stdout",
     "output_type": "stream",
     "text": [
      "Epoch [6/20], Training Accuracy: 0.2968\n",
      "Epoch [6/20], Validation Accuracy: 0.3666\n",
      "No improvement in validation accuracy. Early stopping counter: 4\n"
     ]
    },
    {
     "name": "stderr",
     "output_type": "stream",
     "text": [
      "Epoch [7/20] Training: 100%|██████████| 111/111 [12:59<00:00,  7.03s/it, loss=2.39]\n"
     ]
    },
    {
     "name": "stdout",
     "output_type": "stream",
     "text": [
      "Epoch [7/20], Training Accuracy: 0.3071\n",
      "Epoch [7/20], Validation Accuracy: 0.3716\n",
      "Validation accuracy improved. Resetting early stopping counter and saving model parameters.\n"
     ]
    },
    {
     "name": "stderr",
     "output_type": "stream",
     "text": [
      "Epoch [8/20] Training: 100%|██████████| 111/111 [12:57<00:00,  7.00s/it, loss=2.39]\n"
     ]
    },
    {
     "name": "stdout",
     "output_type": "stream",
     "text": [
      "Epoch [8/20], Training Accuracy: 0.3155\n",
      "Epoch [8/20], Validation Accuracy: 0.3754\n",
      "No improvement in validation accuracy. Early stopping counter: 1\n"
     ]
    },
    {
     "name": "stderr",
     "output_type": "stream",
     "text": [
      "Epoch [9/20] Training: 100%|██████████| 111/111 [12:57<00:00,  7.01s/it, loss=2.37]\n"
     ]
    },
    {
     "name": "stdout",
     "output_type": "stream",
     "text": [
      "Epoch [9/20], Training Accuracy: 0.3270\n",
      "Epoch [9/20], Validation Accuracy: 0.3883\n",
      "Validation accuracy improved. Resetting early stopping counter and saving model parameters.\n"
     ]
    },
    {
     "name": "stderr",
     "output_type": "stream",
     "text": [
      "Epoch [10/20] Training: 100%|██████████| 111/111 [12:59<00:00,  7.02s/it, loss=2.34]\n"
     ]
    },
    {
     "name": "stdout",
     "output_type": "stream",
     "text": [
      "Epoch [10/20], Training Accuracy: 0.3383\n",
      "Epoch [10/20], Validation Accuracy: 0.3951\n",
      "No improvement in validation accuracy. Early stopping counter: 1\n"
     ]
    },
    {
     "name": "stderr",
     "output_type": "stream",
     "text": [
      "Epoch [11/20] Training: 100%|██████████| 111/111 [12:59<00:00,  7.03s/it, loss=2.37]\n"
     ]
    },
    {
     "name": "stdout",
     "output_type": "stream",
     "text": [
      "Epoch [11/20], Training Accuracy: 0.3494\n",
      "Epoch [11/20], Validation Accuracy: 0.3998\n",
      "Validation accuracy improved. Resetting early stopping counter and saving model parameters.\n"
     ]
    },
    {
     "name": "stderr",
     "output_type": "stream",
     "text": [
      "Epoch [12/20] Training: 100%|██████████| 111/111 [12:54<00:00,  6.98s/it, loss=2.31]\n"
     ]
    },
    {
     "name": "stdout",
     "output_type": "stream",
     "text": [
      "Epoch [12/20], Training Accuracy: 0.3600\n",
      "Epoch [12/20], Validation Accuracy: 0.4001\n",
      "No improvement in validation accuracy. Early stopping counter: 1\n"
     ]
    },
    {
     "name": "stderr",
     "output_type": "stream",
     "text": [
      "Epoch [13/20] Training: 100%|██████████| 111/111 [12:55<00:00,  6.99s/it, loss=2.29]\n"
     ]
    },
    {
     "name": "stdout",
     "output_type": "stream",
     "text": [
      "Epoch [13/20], Training Accuracy: 0.3764\n",
      "Epoch [13/20], Validation Accuracy: 0.3998\n",
      "No improvement in validation accuracy. Early stopping counter: 2\n"
     ]
    },
    {
     "name": "stderr",
     "output_type": "stream",
     "text": [
      "Epoch [14/20] Training: 100%|██████████| 111/111 [12:59<00:00,  7.02s/it, loss=2.29]\n"
     ]
    },
    {
     "name": "stdout",
     "output_type": "stream",
     "text": [
      "Epoch [14/20], Training Accuracy: 0.3827\n",
      "Epoch [14/20], Validation Accuracy: 0.3995\n",
      "No improvement in validation accuracy. Early stopping counter: 3\n"
     ]
    },
    {
     "name": "stderr",
     "output_type": "stream",
     "text": [
      "Epoch [15/20] Training: 100%|██████████| 111/111 [12:55<00:00,  6.98s/it, loss=2.25]\n"
     ]
    },
    {
     "name": "stdout",
     "output_type": "stream",
     "text": [
      "Epoch [15/20], Training Accuracy: 0.3914\n",
      "Epoch [15/20], Validation Accuracy: 0.3992\n",
      "No improvement in validation accuracy. Early stopping counter: 4\n"
     ]
    },
    {
     "name": "stderr",
     "output_type": "stream",
     "text": [
      "Epoch [16/20] Training: 100%|██████████| 111/111 [12:54<00:00,  6.98s/it, loss=2.26]\n"
     ]
    },
    {
     "name": "stdout",
     "output_type": "stream",
     "text": [
      "Epoch [16/20], Training Accuracy: 0.3904\n",
      "Epoch [16/20], Validation Accuracy: 0.3992\n",
      "No improvement in validation accuracy. Early stopping counter: 5\n",
      "Early stopping triggered. Stopping training.\n",
      "Loaded best model parameters from training.\n"
     ]
    },
    {
     "data": {
      "image/png": "[encoded data removed]",
      "text/plain": [
       "<Figure size 1000x500 with 1 Axes>"
      ]
     },
     "metadata": {},
     "output_type": "display_data"
    }
   ],
   "source": [
    "import torch\n",
    "from torch.optim.lr_scheduler import CosineAnnealingLR\n",
    "from tqdm import tqdm\n",
    "import matplotlib.pyplot as plt\n",
    "\n",
    "# Define the learning rate scheduler\n",
    "scheduler = CosineAnnealingLR(optimizer, T_max=15, eta_min=1e-6)\n",
    "\n",
    "# Training and validation loops\n",
    "num_epochs = 20\n",
    "patience = 5\n",
    "min_delta = 0.01\n",
    "\n",
    "train_accuracies = []\n",
    "val_accuracies = []\n",
    "\n",
    "best_val_accuracy = 0.0\n",
    "early_stop_counter = 0\n",
    "best_model_params = None\n",
    "\n",
    "for epoch in range(num_epochs):\n",
    "    model.train()\n",
    "    running_corrects_train = 0\n",
    "    loop = tqdm(train_loader, desc=f\"Epoch [{epoch+1}/{num_epochs}] Training\")\n",
    "\n",
    "    for inputs, labels in loop:\n",
    "        inputs, labels = inputs.to(device), labels.to(device)\n",
    "        if labels.ndimension() > 1:\n",
    "            labels = labels.squeeze()\n",
    "        \n",
    "        outputs = model(inputs)\n",
    "        _, preds = torch.max(outputs, 1)\n",
    "        loss = criterion(outputs, labels)\n",
    "\n",
    "        optimizer.zero_grad()\n",
    "        loss.backward()\n",
    "        \n",
    "        # Gradient clipping\n",
    "        torch.nn.utils.clip_grad_norm_(model.classifier[-1].parameters(), max_norm=1.0)\n",
    "        \n",
    "        optimizer.step()\n",
    "        running_corrects_train += torch.sum(preds == labels.data)\n",
    "        loop.set_postfix(loss=loss.item())\n",
    "\n",
    "    epoch_train_accuracy = running_corrects_train.double() / len(train_loader.dataset)\n",
    "    train_accuracies.append(epoch_train_accuracy.item())\n",
    "    print(f'Epoch [{epoch+1}/{num_epochs}], Training Accuracy: {epoch_train_accuracy:.4f}')\n",
    "\n",
    "    model.eval()\n",
    "    running_corrects_val = 0\n",
    "    with torch.no_grad():\n",
    "        for inputs, labels in valid_loader:\n",
    "            inputs, labels = inputs.to(device), labels.to(device)\n",
    "            if labels.ndimension() > 1:\n",
    "                labels = labels.squeeze()\n",
    "\n",
    "            outputs = model(inputs)\n",
    "            _, preds = torch.max(outputs, 1)\n",
    "            loss = criterion(outputs, labels)\n",
    "            running_corrects_val += torch.sum(preds == labels.data)\n",
    "\n",
    "    epoch_val_accuracy = running_corrects_val.double() / len(valid_loader.dataset)\n",
    "    val_accuracies.append(epoch_val_accuracy.item())\n",
    "    print(f'Epoch [{epoch+1}/{num_epochs}], Validation Accuracy: {epoch_val_accuracy:.4f}')\n",
    "\n",
    "    scheduler.step()\n",
    "\n",
    "    if epoch_val_accuracy > best_val_accuracy + min_delta:\n",
    "        best_val_accuracy = epoch_val_accuracy\n",
    "        early_stop_counter = 0\n",
    "        best_model_params = model.state_dict().copy()\n",
    "        print(\"Validation accuracy improved. Resetting early stopping counter and saving model parameters.\")\n",
    "    else:\n",
    "        early_stop_counter += 1\n",
    "        print(f\"No improvement in validation accuracy. Early stopping counter: {early_stop_counter}\")\n",
    "\n",
    "    if early_stop_counter >= patience:\n",
    "        print(\"Early stopping triggered. Stopping training.\")\n",
    "        break\n",
    "\n",
    "if best_model_params is not None:\n",
    "    model.load_state_dict(best_model_params)\n",
    "    print(\"Loaded best model parameters from training.\")\n",
    "\n",
    "plt.figure(figsize=(10, 5))\n",
    "plt.plot(range(1, len(train_accuracies) + 1), train_accuracies, label='Training Accuracy')\n",
    "plt.plot(range(1, len(val_accuracies) + 1), val_accuracies, label='Validation Accuracy')\n",
    "plt.xlabel('Epoch')\n",
    "plt.ylabel('Accuracy')\n",
    "plt.title('Training and Validation Accuracy')\n",
    "plt.legend()\n",
    "plt.show()\n"
   ]
  },
  {
   "cell_type": "code",
   "execution_count": 16,
   "metadata": {},
   "outputs": [
    {
     "name": "stdout",
     "output_type": "stream",
     "text": [
      "Overall Accuracy of the model on the test images: 39.92%\n",
      "Class Impressionism:\n",
      "  Precision: 0.3714\n",
      "  Recall: 0.1287\n",
      "  F1 Score: 0.1912\n",
      "  Accuracy: 592800.00%\n",
      "Class Expressionism:\n",
      "  Precision: 0.2711\n",
      "  Recall: 0.3850\n",
      "  F1 Score: 0.3182\n",
      "  Accuracy: 299364.00%\n",
      "Class Abstract_Expressionism:\n",
      "  Precision: 0.2778\n",
      "  Recall: 0.2750\n",
      "  F1 Score: 0.2764\n",
      "  Accuracy: 299364.00%\n",
      "Class Symbolism:\n",
      "  Precision: 0.5000\n",
      "  Recall: 0.2364\n",
      "  F1 Score: 0.3210\n",
      "  Accuracy: 1088596.36%\n",
      "Class Color_Field_Painting:\n",
      "  Precision: 0.3710\n",
      "  Recall: 0.4100\n",
      "  F1 Score: 0.3895\n",
      "  Accuracy: 299364.00%\n",
      "Class Ukiyo_e:\n",
      "  Precision: 0.5000\n",
      "  Recall: 0.4250\n",
      "  F1 Score: 0.4595\n",
      "  Accuracy: 299364.00%\n",
      "Class Post_Impressionism:\n",
      "  Precision: 0.0000\n",
      "  Recall: 0.0000\n",
      "  F1 Score: 0.0000\n",
      "  Accuracy: 2138314.29%\n",
      "Class High_Renaissance:\n",
      "  Precision: 0.7297\n",
      "  Recall: 0.6000\n",
      "  F1 Score: 0.6585\n",
      "  Accuracy: 1330506.67%\n",
      "Class Realism:\n",
      "  Precision: 0.5369\n",
      "  Recall: 0.7569\n",
      "  F1 Score: 0.6282\n",
      "  Accuracy: 415783.33%\n",
      "Class Pop_Art:\n",
      "  Precision: 0.4206\n",
      "  Recall: 0.2650\n",
      "  F1 Score: 0.3252\n",
      "  Accuracy: 299364.00%\n",
      "Class New_Realism:\n",
      "  Precision: 0.3081\n",
      "  Recall: 0.3250\n",
      "  F1 Score: 0.3163\n",
      "  Accuracy: 299364.00%\n",
      "Class Minimalism:\n",
      "  Precision: 0.3624\n",
      "  Recall: 0.3950\n",
      "  F1 Score: 0.3780\n",
      "  Accuracy: 299364.00%\n",
      "Class Art_Nouveau_Modern:\n",
      "  Precision: 0.3818\n",
      "  Recall: 0.5030\n",
      "  F1 Score: 0.4341\n",
      "  Accuracy: 358519.76%\n"
     ]
    },
    {
     "name": "stderr",
     "output_type": "stream",
     "text": [
      "/opt/anaconda3/lib/python3.11/site-packages/sklearn/metrics/_classification.py:1517: UndefinedMetricWarning: Precision is ill-defined and being set to 0.0 in labels with no predicted samples. Use `zero_division` parameter to control this behavior.\n",
      "  _warn_prf(average, modifier, f\"{metric.capitalize()} is\", len(result))\n"
     ]
    },
    {
     "name": "stdout",
     "output_type": "stream",
     "text": [
      "Class Romanticism:\n",
      "  Precision: 0.4365\n",
      "  Recall: 0.5500\n",
      "  F1 Score: 0.4867\n",
      "  Accuracy: 299364.00%\n",
      "Class Fauvism:\n",
      "  Precision: 0.2598\n",
      "  Recall: 0.2650\n",
      "  F1 Score: 0.2624\n",
      "  Accuracy: 299364.00%\n",
      "Class Synthetic_Cubism:\n",
      "  Precision: 0.4430\n",
      "  Recall: 0.2023\n",
      "  F1 Score: 0.2778\n",
      "  Accuracy: 346085.55%\n",
      "Class Baroque:\n",
      "  Precision: 0.5050\n",
      "  Recall: 0.6667\n",
      "  F1 Score: 0.5746\n",
      "  Accuracy: 391325.49%\n",
      "Class Cubism:\n",
      "  Precision: 0.4470\n",
      "  Recall: 0.4504\n",
      "  F1 Score: 0.4487\n",
      "  Accuracy: 457044.27%\n",
      "Class Analytical_Cubism:\n",
      "  Precision: 0.6667\n",
      "  Recall: 0.0513\n",
      "  F1 Score: 0.0952\n",
      "  Accuracy: 1535200.00%\n",
      "Class Pointillism:\n",
      "  Precision: 0.3491\n",
      "  Recall: 0.3304\n",
      "  F1 Score: 0.3394\n",
      "  Accuracy: 534578.57%\n",
      "Class Northern_Renaissance:\n",
      "  Precision: 0.3770\n",
      "  Recall: 0.5900\n",
      "  F1 Score: 0.4600\n",
      "  Accuracy: 299364.00%\n",
      "Class Mannerism_Late_Renaissance:\n",
      "  Precision: 1.0000\n",
      "  Recall: 0.1111\n",
      "  F1 Score: 0.2000\n",
      "  Accuracy: 6652533.33%\n",
      "Class Contemporary_Realism:\n",
      "  Precision: 0.5234\n",
      "  Recall: 0.6667\n",
      "  F1 Score: 0.5864\n",
      "  Accuracy: 712771.43%\n",
      "Class Naive_Art_Primitivism:\n",
      "  Precision: 0.5385\n",
      "  Recall: 0.2593\n",
      "  F1 Score: 0.3500\n",
      "  Accuracy: 1108755.56%\n",
      "Class Early_Renaissance:\n",
      "  Precision: 1.0000\n",
      "  Recall: 0.1818\n",
      "  F1 Score: 0.3077\n",
      "  Accuracy: 5442981.82%\n",
      "Class Rococo:\n",
      "  Precision: 0.9355\n",
      "  Recall: 0.3671\n",
      "  F1 Score: 0.5273\n",
      "  Accuracy: 757883.54%\n",
      "Class Unidentified:\n",
      "  Precision: 0.0000\n",
      "  Recall: 0.0000\n",
      "  F1 Score: 0.0000\n",
      "  Accuracy: 2721490.91%\n",
      "Overall Precision: 0.4634\n",
      "Overall Recall: 0.3480\n",
      "Overall F1 Score: 0.3560\n"
     ]
    },
    {
     "name": "stderr",
     "output_type": "stream",
     "text": [
      "/opt/anaconda3/lib/python3.11/site-packages/sklearn/metrics/_classification.py:1517: UndefinedMetricWarning: Precision is ill-defined and being set to 0.0 in labels with no predicted samples. Use `zero_division` parameter to control this behavior.\n",
      "  _warn_prf(average, modifier, f\"{metric.capitalize()} is\", len(result))\n"
     ]
    },
    {
     "data": {
      "image/png": "[encoded data removed]",
      "text/plain": [
       "<Figure size 1400x1000 with 2 Axes>"
      ]
     },
     "metadata": {},
     "output_type": "display_data"
    }
   ],
   "source": [
    "import torch\n",
    "import numpy as np\n",
    "import matplotlib.pyplot as plt\n",
    "import seaborn as sns\n",
    "from sklearn.metrics import confusion_matrix, accuracy_score, precision_recall_fscore_support\n",
    "\n",
    "# Define the label to art movement mapping\n",
    "label_mapping = {0: 'Impressionism', 1: 'Expressionism', 2: 'Abstract_Expressionism', 3: 'Symbolism', 4: 'Color_Field_Painting', \n",
    "                 5: 'Ukiyo_e', 6: 'Post_Impressionism', 7: 'High_Renaissance', 8: 'Realism', 9: 'Pop_Art', 10: 'New_Realism', \n",
    "                 11: 'Minimalism', 12: 'Art_Nouveau_Modern', 13: 'Romanticism', 14: 'Fauvism', 15: 'Synthetic_Cubism', \n",
    "                 16: 'Baroque', 17: 'Cubism', 18: 'Analytical_Cubism', 19: 'Pointillism', 20: 'Northern_Renaissance', \n",
    "                 21: 'Mannerism_Late_Renaissance', 22: 'Contemporary_Realism', 23: 'Naive_Art_Primitivism', \n",
    "                 24: 'Early_Renaissance', 25: 'Rococo', 26: 'Unidentified'}\n",
    "\n",
    "# Inference with Softmax and Metrics Calculation\n",
    "model.eval()  # Set the model to evaluation mode\n",
    "softmax = torch.nn.Softmax(dim=1)\n",
    "all_labels = []\n",
    "all_predictions = []\n",
    "\n",
    "with torch.no_grad():\n",
    "    for inputs, labels in valid_loader:  # Assume you have a DataLoader 'valid_loader'\n",
    "        inputs, labels = inputs.to(device), labels.to(device)\n",
    "        outputs = model(inputs)\n",
    "        probabilities = softmax(outputs)  # Apply softmax to get probabilities\n",
    "        _, predicted = torch.max(probabilities, 1)  # Get the index of the max probability\n",
    "        all_labels.extend(labels.cpu().numpy())\n",
    "        all_predictions.extend(predicted.cpu().numpy())\n",
    "\n",
    "# Calculate accuracy\n",
    "accuracy = accuracy_score(all_labels, all_predictions) * 100\n",
    "print(f'Overall Accuracy of the model on the test images: {accuracy:.2f}%')\n",
    "\n",
    "# Calculate precision, recall, f1-score, and support for each class\n",
    "precision, recall, f1, support = precision_recall_fscore_support(all_labels, all_predictions, average=None)\n",
    "\n",
    "# Print precision, recall, f1-score, and accuracy for each class\n",
    "num_classes = len(label_mapping)\n",
    "for i in range(num_classes):\n",
    "    class_accuracy = 100 * (np.array(all_labels) == np.array(all_predictions)).sum() / support[i]\n",
    "    print(f'Class {label_mapping[i]}:')\n",
    "    print(f'  Precision: {precision[i]:.4f}')\n",
    "    print(f'  Recall: {recall[i]:.4f}')\n",
    "    print(f'  F1 Score: {f1[i]:.4f}')\n",
    "    print(f'  Accuracy: {class_accuracy:.2f}%')\n",
    "\n",
    "# Optionally, you can print the overall precision, recall, f1-score\n",
    "overall_precision, overall_recall, overall_f1, _ = precision_recall_fscore_support(all_labels, all_predictions, average='macro')\n",
    "print(f'Overall Precision: {overall_precision:.4f}')\n",
    "print(f'Overall Recall: {overall_recall:.4f}')\n",
    "print(f'Overall F1 Score: {overall_f1:.4f}')\n",
    "\n",
    "# Create confusion matrix\n",
    "cm = confusion_matrix(all_labels, all_predictions)\n",
    "\n",
    "# Plot confusion matrix\n",
    "plt.figure(figsize=(14, 10))\n",
    "sns.heatmap(cm, annot=True, fmt='d', cmap='Blues', xticklabels=[label_mapping[i] for i in range(num_classes)], \n",
    "            yticklabels=[label_mapping[i] for i in range(num_classes)])\n",
    "plt.xlabel('Predicted Label')\n",
    "plt.ylabel('True Label')\n",
    "plt.title('Confusion Matrix')\n",
    "plt.xticks(rotation=90)\n",
    "plt.yticks(rotation=0)\n",
    "plt.show()\n"
   ]
  }
 ],
 "metadata": {
  "kernelspec": {
   "display_name": "DL",
   "language": "python",
   "name": "python3"
  },
  "language_info": {
   "codemirror_mode": {
    "name": "ipython",
    "version": 3
   },
   "file_extension": ".py",
   "mimetype": "text/x-python",
   "name": "python",
   "nbconvert_exporter": "python",
   "pygments_lexer": "ipython3",
   "version": "3.11.7"
  }
 },
 "nbformat": 4,
 "nbformat_minor": 2
}
